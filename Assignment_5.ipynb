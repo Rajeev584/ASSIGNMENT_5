{
 "cells": [
  {
   "cell_type": "code",
   "execution_count": 11,
   "id": "0f87cbfc-7b29-4edd-b23f-caf611540765",
   "metadata": {},
   "outputs": [
    {
     "ename": "SyntaxError",
     "evalue": "invalid syntax (3611058236.py, line 9)",
     "output_type": "error",
     "traceback": [
      "\u001b[0;36m  Cell \u001b[0;32mIn [11], line 9\u001b[0;36m\u001b[0m\n\u001b[0;31m    Q2:\u001b[0m\n\u001b[0m       ^\u001b[0m\n\u001b[0;31mSyntaxError\u001b[0m\u001b[0;31m:\u001b[0m invalid syntax\n"
     ]
    }
   ],
   "source": [
    "Q1: '''create a python program to sort a list of tuples \n",
    "based on integer values'''\n",
    "def tuple(l):\n",
    "    m=[]\n",
    "    for i in l:\n",
    "        m.append(i[-1])\n",
    "    m.sort()\n",
    "    return m\n",
    "\n",
    "Q2:#Python Program to find the squares of all the numbers in the given list of integers\n",
    "l=[1,2,3,4,5,6,7,8,9,10]\n",
    "list(map(lambda x:x**2,l))\n",
    "\n",
    "Q3:# write a python program to convert a given list of integers into tuple of strings\n",
    "    l=[1,2,3,4,5,6,7,8,9,10]\n",
    "    tuple(map(lambda x:str(x),l))\n",
    "    \n",
    "Q4:'''a python program using reduce function to compute the product \n",
    "    of a list containing numbers from 1 to 25'''\n",
    "from functools import reduce\n",
    "l=[]\n",
    "for i in range(1,26):\n",
    "    l.append(i)\n",
    "reduce(lambda x,y:x*y,l)\n",
    "\n",
    "Q5:'''Q5. Write a python program to filter the numbers in a given list that are divisible by 2 and 3 using the\n",
    "filter function.'''\n",
    "l=[2,3,6,9,27,60,90,120,55,46]\n",
    "list(filter(lambda x:x%2==0 and x%3==0,l))\n",
    "\n",
    "Q6:'''Write a python program to find palindromes in the given list of strings using lambda and filter\n",
    "function.'''\n",
    "# Define a lambda function to check for palindromes\n",
    "palindrome_check = lambda s: s == s[::-1] \n",
    "\n",
    "# Create a list of strings\n",
    "string_list =['python', 'php', 'aba', 'radar', 'level']\n",
    "\n",
    "# Use filter() to filter out palindromes\n",
    "palindromes = list(filter(palindrome_check, string_list))\n",
    "\n",
    "# Print out the list of palindromes\n",
    "print(palindromes)\n",
    "\n",
    "\n",
    "\n",
    "\n"
   ]
  },
  {
   "cell_type": "code",
   "execution_count": null,
   "id": "3c48db11-773f-4f8a-8318-659547c9d66f",
   "metadata": {},
   "outputs": [],
   "source": [
    "tuple([('raam',98),('shyam',90)])\n",
    "\n"
   ]
  },
  {
   "cell_type": "code",
   "execution_count": null,
   "id": "73c23940-eb6b-44f1-9bde-b7bbeacf7b2c",
   "metadata": {},
   "outputs": [],
   "source": []
  }
 ],
 "metadata": {
  "kernelspec": {
   "display_name": "Python 3 (ipykernel)",
   "language": "python",
   "name": "python3"
  },
  "language_info": {
   "codemirror_mode": {
    "name": "ipython",
    "version": 3
   },
   "file_extension": ".py",
   "mimetype": "text/x-python",
   "name": "python",
   "nbconvert_exporter": "python",
   "pygments_lexer": "ipython3",
   "version": "3.10.6"
  }
 },
 "nbformat": 4,
 "nbformat_minor": 5
}
